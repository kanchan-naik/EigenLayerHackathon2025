{
 "cells": [
  {
   "cell_type": "code",
   "execution_count": 1,
   "metadata": {},
   "outputs": [
    {
     "name": "stderr",
     "output_type": "stream",
     "text": [
      "c:\\Users\\basic\\anaconda3\\lib\\site-packages\\pandas\\core\\computation\\expressions.py:21: UserWarning: Pandas requires version '2.8.4' or newer of 'numexpr' (version '2.8.1' currently installed).\n",
      "  from pandas.core.computation.check import NUMEXPR_INSTALLED\n",
      "c:\\Users\\basic\\anaconda3\\lib\\site-packages\\pandas\\core\\arrays\\masked.py:60: UserWarning: Pandas requires version '1.3.6' or newer of 'bottleneck' (version '1.3.4' currently installed).\n",
      "  from pandas.core import (\n"
     ]
    }
   ],
   "source": [
    "import numpy as np\n",
    "import pandas as pd"
   ]
  },
  {
   "cell_type": "markdown",
   "metadata": {},
   "source": [
    "Idea: Keep track of user's impact to pool by saving the net they took and adding/subtracting to pool's liquidity at that time\n",
    "Idea: Don't make whole new class for limit swap, just simulate it by creating the swap at the time the limit condition is made (otherwise never)"
   ]
  },
  {
   "cell_type": "code",
   "execution_count": null,
   "metadata": {},
   "outputs": [],
   "source": []
  },
  {
   "cell_type": "code",
   "execution_count": null,
   "metadata": {},
   "outputs": [],
   "source": [
    "class Swap:\n",
    "    def __init__(self, sell_token:str, buy_token:str, sell_amount:float, timestamp:int):\n",
    "        #NOTE: (future) Assumes provided/default \"gas_used\" is accurace (and in W)\n",
    "\n",
    "        #NOTE: (future) Replace sell_token and buy_token with Token objects made from list of tokens on Uniswap\n",
    "\n",
    "        #NOTE: (future) Assumes no max slippage or tx deadline set (both infinite)\n",
    "\n",
    "        #NOTE: (future) As of right now, does not account for price impact on the pool\n",
    "\n",
    "        self.sell_token = sell_token\n",
    "        self.buy_token = buy_token\n",
    "        self.sell_amount = sell_amount\n",
    "        self.timestamp = timestamp\n",
    "        self.swap_ratio = self.get_swap_ratio() #NOTE: Assumed equal to pool price at timestamp\n",
    "        self.fee = self.get_uniswap_fee()\n",
    "        self.gas = self.get_gas_fee()\n",
    "        self.buy_amount = self.get_buy_amount()\n",
    "\n",
    "    def get_swap_ratio(self):\n",
    "        \"\"\"\n",
    "        Function that uses historical data to calculate the swap ratio for the transaction based on sell_token,\n",
    "        buy_token, sell_amount\n",
    "\n",
    "        Swap Ratio = X where 1 buytoken = X selltoken (e.g. for sell ETH buy USDC, X=2500)\n",
    "\n",
    "        #NOTE: Does not account for price impact on the pool/slippage (TODO: implement)\n",
    "        \"\"\"\n",
    "        return utils.get_swap_ratio(self.sell_token, self.buy_token, self.timestamp) #TODO: Implement in utils\n",
    "\n",
    "    def get_uniswap_fee(self):\n",
    "        \"\"\"\n",
    "        Function that uses historical data to calculate the Uniswap fee for the transaction based on sell_token,\n",
    "        buy_token, sell_amount, and the timestamp\n",
    "\n",
    "        NOTE: This chooses the pool with the highest TVL for the given tokens at the timestamp and uses it's fee\n",
    "        \"\"\"\n",
    "        return utils.get_uniswap_fee(self.sell_token, self.buy_token, self.timestamp) #TODO: Implement in utils\n",
    "\n",
    "    def get_gas_fee(self):\n",
    "        \"\"\"\n",
    "        Function that uses historical data to calculate the gas fee for the transaction based on sell_token,\n",
    "        sell_amount, and the timestamp\n",
    "        \"\"\"\n",
    "        return utils.get_gas_fee(self.sell_token, self.sell_amount, self.timestamp) #TODO: Implement in utils\n",
    "\n",
    "    def get_buy_amount(self):\n",
    "        \"\"\"\n",
    "        Function that uses historical Uniswap data to calculate the amount of buy_token that would be received\n",
    "        from selling sell_amount of sell_token\n",
    "        \"\"\"\n",
    "\n",
    "        #NOTE: Assumes any size transaction goes through. Future version should implement slippage and pool liquidity checks \n",
    "        return (self.sell_amount - self.gas) * self.swap_ratio * (1 - self.fee)\n",
    "\n",
    "    def __str__(self):\n",
    "        return f'{self.timestamp} : {self.sell_token} -> {self.buy_token} ({self.sell_amount} -> {self.buy_amount})'\n",
    "        "
   ]
  },
  {
   "cell_type": "code",
   "execution_count": null,
   "metadata": {},
   "outputs": [],
   "source": [
    "def get_gas_fees(sell_token, sell_amount, timestamp):\n",
    "    \"\"\"\n",
    "    Function that uses historical data to calculate the gas fee for the transaction based on sell_token,\n",
    "    sell_amount, and the timestamp\n",
    "    \"\"\"\n",
    "\n",
    "    gas_used = 150000      #gas_used(sell_token, sell_amount, timestamp) #TODO: Implement in utils\n",
    "    gas_price_gwei = gas_price(timestamp) #TODO: Implement in utils\n",
    "    return gas_used * gas_price_gwei * 10**-9\n",
    "    \n"
   ]
  }
 ],
 "metadata": {
  "kernelspec": {
   "display_name": "base",
   "language": "python",
   "name": "python3"
  },
  "language_info": {
   "codemirror_mode": {
    "name": "ipython",
    "version": 3
   },
   "file_extension": ".py",
   "mimetype": "text/x-python",
   "name": "python",
   "nbconvert_exporter": "python",
   "pygments_lexer": "ipython3",
   "version": "3.9.12"
  }
 },
 "nbformat": 4,
 "nbformat_minor": 2
}
